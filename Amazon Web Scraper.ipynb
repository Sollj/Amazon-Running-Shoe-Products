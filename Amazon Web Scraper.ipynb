{
 "cells": [
  {
   "cell_type": "code",
   "execution_count": 7,
   "id": "c9f8e0ef",
   "metadata": {
    "collapsed": true
   },
   "outputs": [
    {
     "name": "stdout",
     "output_type": "stream",
     "text": [
      "Requirement already satisfied: BeautifulSoup4 in d:\\r-4.2.3\\anaconda\\lib\\site-packages (4.12.2)\n",
      "Requirement already satisfied: soupsieve>1.2 in d:\\r-4.2.3\\anaconda\\lib\\site-packages (from BeautifulSoup4) (2.4)\n",
      "Requirement already satisfied: requests_html in d:\\r-4.2.3\\anaconda\\lib\\site-packages (0.10.0)\n",
      "Requirement already satisfied: requests in d:\\r-4.2.3\\anaconda\\lib\\site-packages (from requests_html) (2.31.0)\n",
      "Requirement already satisfied: pyquery in d:\\r-4.2.3\\anaconda\\lib\\site-packages (from requests_html) (2.0.0)\n",
      "Requirement already satisfied: fake-useragent in d:\\r-4.2.3\\anaconda\\lib\\site-packages (from requests_html) (1.3.0)\n",
      "Requirement already satisfied: parse in d:\\r-4.2.3\\anaconda\\lib\\site-packages (from requests_html) (1.19.1)\n",
      "Requirement already satisfied: bs4 in d:\\r-4.2.3\\anaconda\\lib\\site-packages (from requests_html) (0.0.1)\n",
      "Requirement already satisfied: w3lib in d:\\r-4.2.3\\anaconda\\lib\\site-packages (from requests_html) (1.21.0)\n",
      "Requirement already satisfied: pyppeteer>=0.0.14 in d:\\r-4.2.3\\anaconda\\lib\\site-packages (from requests_html) (1.0.2)\n",
      "Requirement already satisfied: appdirs<2.0.0,>=1.4.3 in d:\\r-4.2.3\\anaconda\\lib\\site-packages (from pyppeteer>=0.0.14->requests_html) (1.4.4)\n",
      "Requirement already satisfied: certifi>=2021 in d:\\r-4.2.3\\anaconda\\lib\\site-packages (from pyppeteer>=0.0.14->requests_html) (2023.7.22)\n",
      "Requirement already satisfied: importlib-metadata>=1.4 in d:\\r-4.2.3\\anaconda\\lib\\site-packages (from pyppeteer>=0.0.14->requests_html) (6.0.0)\n",
      "Requirement already satisfied: pyee<9.0.0,>=8.1.0 in d:\\r-4.2.3\\anaconda\\lib\\site-packages (from pyppeteer>=0.0.14->requests_html) (8.2.2)\n",
      "Requirement already satisfied: tqdm<5.0.0,>=4.42.1 in d:\\r-4.2.3\\anaconda\\lib\\site-packages (from pyppeteer>=0.0.14->requests_html) (4.65.0)\n",
      "Requirement already satisfied: urllib3<2.0.0,>=1.25.8 in d:\\r-4.2.3\\anaconda\\lib\\site-packages (from pyppeteer>=0.0.14->requests_html) (1.26.16)\n",
      "Requirement already satisfied: websockets<11.0,>=10.0 in d:\\r-4.2.3\\anaconda\\lib\\site-packages (from pyppeteer>=0.0.14->requests_html) (10.4)\n",
      "Requirement already satisfied: beautifulsoup4 in d:\\r-4.2.3\\anaconda\\lib\\site-packages (from bs4->requests_html) (4.12.2)\n",
      "Requirement already satisfied: lxml>=2.1 in d:\\r-4.2.3\\anaconda\\lib\\site-packages (from pyquery->requests_html) (4.9.3)\n",
      "Requirement already satisfied: cssselect>=1.2.0 in d:\\r-4.2.3\\anaconda\\lib\\site-packages (from pyquery->requests_html) (1.2.0)\n",
      "Requirement already satisfied: charset-normalizer<4,>=2 in d:\\r-4.2.3\\anaconda\\lib\\site-packages (from requests->requests_html) (2.0.4)\n",
      "Requirement already satisfied: idna<4,>=2.5 in d:\\r-4.2.3\\anaconda\\lib\\site-packages (from requests->requests_html) (3.4)\n",
      "Requirement already satisfied: six>=1.4.1 in d:\\r-4.2.3\\anaconda\\lib\\site-packages (from w3lib->requests_html) (1.16.0)\n",
      "Requirement already satisfied: zipp>=0.5 in d:\\r-4.2.3\\anaconda\\lib\\site-packages (from importlib-metadata>=1.4->pyppeteer>=0.0.14->requests_html) (3.11.0)\n",
      "Requirement already satisfied: colorama in d:\\r-4.2.3\\anaconda\\lib\\site-packages (from tqdm<5.0.0,>=4.42.1->pyppeteer>=0.0.14->requests_html) (0.4.6)\n",
      "Requirement already satisfied: soupsieve>1.2 in d:\\r-4.2.3\\anaconda\\lib\\site-packages (from beautifulsoup4->bs4->requests_html) (2.4)\n",
      "Requirement already satisfied: boto3 in d:\\r-4.2.3\\anaconda\\lib\\site-packages (1.28.76)\n",
      "Requirement already satisfied: botocore<1.32.0,>=1.31.76 in d:\\r-4.2.3\\anaconda\\lib\\site-packages (from boto3) (1.31.76)\n",
      "Requirement already satisfied: jmespath<2.0.0,>=0.7.1 in d:\\r-4.2.3\\anaconda\\lib\\site-packages (from boto3) (0.10.0)\n",
      "Requirement already satisfied: s3transfer<0.8.0,>=0.7.0 in d:\\r-4.2.3\\anaconda\\lib\\site-packages (from boto3) (0.7.0)\n",
      "Requirement already satisfied: python-dateutil<3.0.0,>=2.1 in d:\\r-4.2.3\\anaconda\\lib\\site-packages (from botocore<1.32.0,>=1.31.76->boto3) (2.8.2)\n",
      "Requirement already satisfied: urllib3<2.1,>=1.25.4 in d:\\r-4.2.3\\anaconda\\lib\\site-packages (from botocore<1.32.0,>=1.31.76->boto3) (1.26.16)\n",
      "Requirement already satisfied: six>=1.5 in d:\\r-4.2.3\\anaconda\\lib\\site-packages (from python-dateutil<3.0.0,>=2.1->botocore<1.32.0,>=1.31.76->boto3) (1.16.0)\n"
     ]
    }
   ],
   "source": [
    "!pip install BeautifulSoup4\n",
    "!pip install requests_html\n",
    "!pip install boto3"
   ]
  },
  {
   "cell_type": "code",
   "execution_count": 1,
   "id": "78dec2a8",
   "metadata": {},
   "outputs": [],
   "source": [
    "import os\n",
    "import csv\n",
    "import requests\n",
    "# smtplib for sending emails to yourself\n",
    "import smtplib\n",
    "import time\n",
    "import datetime\n",
    "import boto3\n",
    "import openpyxl\n",
    "import json\n",
    "from bs4 import BeautifulSoup"
   ]
  },
  {
   "cell_type": "code",
   "execution_count": 17,
   "id": "017fbd0e",
   "metadata": {},
   "outputs": [],
   "source": [
    "#change current working directory for more space to save HTML files\n",
    "os.chdir(\"D:\\Running Shoes Case Study\\Webpages\\Running Shoes Webpages\\Womens\")"
   ]
  },
  {
   "cell_type": "code",
   "execution_count": 15,
   "id": "4cc3c32c",
   "metadata": {},
   "outputs": [],
   "source": [
    "#Creating out product data list to store the extracted data for each product\n",
    "product_data = []\n",
    "\n",
    "# Choosing our file name to loop through our HTML webpages\n",
    "for filename in os.listdir(\"D:\\Running Shoes Case Study\\Webpages\\Running Shoes Webpages\\Mens\"):\n",
    "    if filename.endswith('.html'):\n",
    "        with open(os.path.join(\"D:\\Running Shoes Case Study\\Webpages\\Running Shoes Webpages\\Mens\", filename), 'r', encoding='utf-8') as file:\n",
    "            content = file.read()\n",
    "\n",
    "            # Parse HTML content\n",
    "            soup = BeautifulSoup(content, 'html.parser')\n",
    "\n",
    "            # Find all divs with the specified class to identify where to start looking for each piece of information.\n",
    "            divs = soup.find_all('div', class_=(\"puis-card-container s-card-container s-overflow-hidden aok-relative puis-expand-height puis-include-content-margin puis puis-vmfc9hd12ljmw2usfp7jhuo3od s-latency-cf-section puis-card-border\"))\n",
    "                                 \n",
    "            for div in divs:\n",
    "                # Find the product brand\n",
    "                product_brand_span = div.find('span', class_='a-size-base-plus a-color-base')\n",
    "                Product_brand = product_brand_span.text if product_brand_span else \" \"\n",
    "\n",
    "                # Find the product name/information\n",
    "                product_name_span = div.find('span', class_='a-size-base-plus a-color-base a-text-normal')\n",
    "                Product_name = product_name_span.text if product_name_span else \" \"\n",
    "\n",
    "                # Find the product price\n",
    "                product_price_span = div.find('span', class_='a-offscreen')\n",
    "                Product_Price = product_price_span.text if product_price_span else \" \"\n",
    "\n",
    "                # Find purchases in the past month\n",
    "                purchases_in_past_month_span = div.find('span', class_='a-size-base a-color-secondary')\n",
    "                Purchases_in_past_month = purchases_in_past_month_span.text if purchases_in_past_month_span else \" \"\n",
    "\n",
    "                # Find total reviews\n",
    "                total_reviews_span = div.find('span', class_='a-size-base s-underline-text')\n",
    "                total_reviews = total_reviews_span.text if total_reviews_span else \" \"\n",
    "\n",
    "                # Find AVG Rating\n",
    "                AVG_Rating_span = div.find('span', class_='a-icon-alt')\n",
    "                AVG_Rating = AVG_Rating_span.text if AVG_Rating_span else \" \"\n",
    "                \n",
    "                #Insert Gender according to our Amazon search on the HTML webpages\n",
    "                Gender = \"Men's\"\n",
    "                \n",
    "                # Appending the extracted data for each product to the 'product_data' list\n",
    "                product_data.append([Product_brand, Product_name, Product_Price, Purchases_in_past_month, total_reviews, AVG_Rating, Gender])\n",
    "\n",
    "# Creating and writing data to an Excel file then writing our column headers\n",
    "workbook = openpyxl.Workbook()\n",
    "worksheet = workbook.active\n",
    "\n",
    "worksheet['A1'] = 'Brand'\n",
    "worksheet['B1'] = 'Product Name'\n",
    "worksheet['C1'] = 'Product Price'\n",
    "worksheet['D1'] = 'Purchases in Past Month'\n",
    "worksheet['E1'] = 'Total Reviews'\n",
    "worksheet['F1'] = 'AVG Rating'\n",
    "worksheet['G1'] = 'Gender'\n",
    "\n",
    "# FIlls the worksheet rows with data from the 'product_data' list\n",
    "for row, data in enumerate(product_data, start=2):\n",
    "    worksheet.cell(row=row, column=1, value=data[0])\n",
    "    worksheet.cell(row=row, column=2, value=data[1])\n",
    "    worksheet.cell(row=row, column=3, value=data[2])\n",
    "    worksheet.cell(row=row, column=4, value=data[3])\n",
    "    worksheet.cell(row=row, column=5, value=data[4])\n",
    "    worksheet.cell(row=row, column=6, value=data[5])\n",
    "    worksheet.cell(row=row, column=7, value=data[6])\n",
    "    \n",
    "workbook.save('New.xlsx')\n"
   ]
  },
  {
   "cell_type": "code",
   "execution_count": null,
   "id": "2d35eb49",
   "metadata": {},
   "outputs": [],
   "source": []
  }
 ],
 "metadata": {
  "kernelspec": {
   "display_name": "Python 3 (ipykernel)",
   "language": "python",
   "name": "python3"
  },
  "language_info": {
   "codemirror_mode": {
    "name": "ipython",
    "version": 3
   },
   "file_extension": ".py",
   "mimetype": "text/x-python",
   "name": "python",
   "nbconvert_exporter": "python",
   "pygments_lexer": "ipython3",
   "version": "3.11.5"
  }
 },
 "nbformat": 4,
 "nbformat_minor": 5
}
